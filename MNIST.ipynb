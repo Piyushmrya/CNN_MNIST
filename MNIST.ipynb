{
 "cells": [
  {
   "cell_type": "code",
   "execution_count": 34,
   "metadata": {},
   "outputs": [],
   "source": [
    "import tensorflow as tf\n",
    "import numpy as np\n",
    "from keras.datasets import mnist"
   ]
  },
  {
   "cell_type": "code",
   "execution_count": 19,
   "metadata": {},
   "outputs": [],
   "source": [
    "(x_train, y_train) , (x_test, y_test) = mnist.load_data()"
   ]
  },
  {
   "cell_type": "code",
   "execution_count": 14,
   "metadata": {},
   "outputs": [],
   "source": [
    "# x_train[0]"
   ]
  },
  {
   "cell_type": "code",
   "execution_count": 20,
   "metadata": {},
   "outputs": [
    {
     "data": {
      "image/png": "[encoded data removed]",
      "text/plain": [
       "<Figure size 640x480 with 1 Axes>"
      ]
     },
     "metadata": {},
     "output_type": "display_data"
    }
   ],
   "source": [
    "import matplotlib.pyplot as plt\n",
    "plt.imshow(x_train[245], cmap='gray')\n",
    "plt.show()"
   ]
  },
  {
   "cell_type": "code",
   "execution_count": 22,
   "metadata": {},
   "outputs": [
    {
     "data": {
      "text/plain": [
       "8"
      ]
     },
     "execution_count": 22,
     "metadata": {},
     "output_type": "execute_result"
    }
   ],
   "source": [
    "y_train[245]"
   ]
  },
  {
   "cell_type": "code",
   "execution_count": 23,
   "metadata": {},
   "outputs": [],
   "source": [
    "# feature scaling\n",
    "x_train = x_train/255\n",
    "x_test = x_test/255"
   ]
  },
  {
   "cell_type": "code",
   "execution_count": 24,
   "metadata": {},
   "outputs": [],
   "source": [
    "#Split dataset \n",
    "from sklearn.model_selection import train_test_split \n",
    "x_train, x_val, y_train, y_val = train_test_split(x_train, y_train, test_size= 0.2)"
   ]
  },
  {
   "cell_type": "code",
   "execution_count": 29,
   "metadata": {},
   "outputs": [],
   "source": [
    "# Building CNN \n",
    "from tensorflow import keras\n",
    "Cnn_model = keras.models.Sequential([\n",
    "        keras.layers.Conv2D(filters=32,kernel_size=3,padding ='valid',activation = 'relu',input_shape = [28,28,1]),\n",
    "        keras.layers.MaxPooling2D(pool_size=(2,2)),\n",
    "        keras.layers.Flatten(),\n",
    "        keras.layers.Dense(units=128, activation = 'relu'),\n",
    "        keras.layers.Dense(units=10,activation= 'softmax')\n",
    "]) "
   ]
  },
  {
   "cell_type": "code",
   "execution_count": 30,
   "metadata": {},
   "outputs": [
    {
     "name": "stdout",
     "output_type": "stream",
     "text": [
      "Model: \"sequential\"\n",
      "_________________________________________________________________\n",
      " Layer (type)                Output Shape              Param #   \n",
      "=================================================================\n",
      " conv2d_1 (Conv2D)           (None, 26, 26, 32)        320       \n",
      "                                                                 \n",
      " max_pooling2d_1 (MaxPooling  (None, 13, 13, 32)       0         \n",
      " 2D)                                                             \n",
      "                                                                 \n",
      " flatten_1 (Flatten)         (None, 5408)              0         \n",
      "                                                                 \n",
      " dense_1 (Dense)             (None, 128)               692352    \n",
      "                                                                 \n",
      " dense_2 (Dense)             (None, 10)                1290      \n",
      "                                                                 \n",
      "=================================================================\n",
      "Total params: 693,962\n",
      "Trainable params: 693,962\n",
      "Non-trainable params: 0\n",
      "_________________________________________________________________\n"
     ]
    }
   ],
   "source": [
    "Cnn_model.summary()"
   ]
  },
  {
   "cell_type": "code",
   "execution_count": 31,
   "metadata": {},
   "outputs": [
    {
     "name": "stdout",
     "output_type": "stream",
     "text": [
      "Epoch 1/10\n",
      "94/94 [==============================] - 16s 155ms/step - loss: 0.4558 - accuracy: 0.8783 - val_loss: 0.2154 - val_accuracy: 0.9382\n",
      "Epoch 2/10\n",
      "94/94 [==============================] - 15s 159ms/step - loss: 0.1533 - accuracy: 0.9554 - val_loss: 0.1304 - val_accuracy: 0.9632\n",
      "Epoch 3/10\n",
      "94/94 [==============================] - 17s 179ms/step - loss: 0.0944 - accuracy: 0.9735 - val_loss: 0.0948 - val_accuracy: 0.9731\n",
      "Epoch 4/10\n",
      "94/94 [==============================] - 13s 139ms/step - loss: 0.0686 - accuracy: 0.9805 - val_loss: 0.0790 - val_accuracy: 0.9787\n",
      "Epoch 5/10\n",
      "94/94 [==============================] - 16s 172ms/step - loss: 0.0540 - accuracy: 0.9846 - val_loss: 0.0705 - val_accuracy: 0.9796\n",
      "Epoch 6/10\n",
      "94/94 [==============================] - 12s 133ms/step - loss: 0.0446 - accuracy: 0.9877 - val_loss: 0.0685 - val_accuracy: 0.9805\n",
      "Epoch 7/10\n",
      "94/94 [==============================] - 13s 141ms/step - loss: 0.0385 - accuracy: 0.9894 - val_loss: 0.0650 - val_accuracy: 0.9803\n",
      "Epoch 8/10\n",
      "94/94 [==============================] - 17s 176ms/step - loss: 0.0330 - accuracy: 0.9906 - val_loss: 0.0636 - val_accuracy: 0.9801\n",
      "Epoch 9/10\n",
      "94/94 [==============================] - 15s 155ms/step - loss: 0.0285 - accuracy: 0.9916 - val_loss: 0.0609 - val_accuracy: 0.9822\n",
      "Epoch 10/10\n",
      "94/94 [==============================] - 13s 142ms/step - loss: 0.0255 - accuracy: 0.9926 - val_loss: 0.0627 - val_accuracy: 0.9810\n"
     ]
    },
    {
     "data": {
      "text/plain": [
       "<keras.callbacks.History at 0x1579e42f050>"
      ]
     },
     "execution_count": 31,
     "metadata": {},
     "output_type": "execute_result"
    }
   ],
   "source": [
    "Cnn_model.compile(optimizer='adam', loss='sparse_categorical_crossentropy',metrics='accuracy')\n",
    "Cnn_model.fit(x_train,y_train, epochs =10, batch_size=512, verbose=1,validation_data=(x_val,y_val))"
   ]
  },
  {
   "cell_type": "code",
   "execution_count": 40,
   "metadata": {},
   "outputs": [
    {
     "name": "stdout",
     "output_type": "stream",
     "text": [
      "1/1 [==============================] - 0s 25ms/step\n",
      "Predicted :  7\n",
      "Actual :  7\n"
     ]
    }
   ],
   "source": [
    "y_pred = Cnn_model.predict(np.expand_dims(x_test[0],axis=0)).round(1)\n",
    "print(\"Predicted : \" , np.argmax(y_pred))\n",
    "print(\"Actual : \",y_test[0])"
   ]
  },
  {
   "cell_type": "code",
   "execution_count": 32,
   "metadata": {},
   "outputs": [
    {
     "name": "stdout",
     "output_type": "stream",
     "text": [
      "313/313 [==============================] - 2s 7ms/step\n",
      "313/313 [==============================] - 2s 7ms/step - loss: 0.0533 - accuracy: 0.9820\n"
     ]
    },
    {
     "data": {
      "text/plain": [
       "[0.053256548941135406, 0.9819999933242798]"
      ]
     },
     "execution_count": 32,
     "metadata": {},
     "output_type": "execute_result"
    }
   ],
   "source": [
    "#Test and evaluate\n",
    "y_pred = Cnn_model.predict(x_test)\n",
    "Cnn_model.evaluate(x_test, y_test)"
   ]
  }
 ],
 "metadata": {
  "kernelspec": {
   "display_name": "Python 3",
   "language": "python",
   "name": "python3"
  },
  "language_info": {
   "codemirror_mode": {
    "name": "ipython",
    "version": 3
   },
   "file_extension": ".py",
   "mimetype": "text/x-python",
   "name": "python",
   "nbconvert_exporter": "python",
   "pygments_lexer": "ipython3",
   "version": "3.11.2"
  },
  "orig_nbformat": 4
 },
 "nbformat": 4,
 "nbformat_minor": 2
}
